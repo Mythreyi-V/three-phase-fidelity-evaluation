{
 "cells": [
  {
   "cell_type": "code",
   "execution_count": null,
   "metadata": {},
   "outputs": [],
   "source": [
    "#!pip install lime\n",
    "#!pip install shap\n",
    "#!pip install anchor-exp\n",
    "#!pip install hyperopt\n",
    "\n",
    "import pandas as pd\n",
    "import numpy as np\n",
    "\n",
    "import xgboost as xgb\n",
    "\n",
    "from hyperopt import hp\n",
    "import pickle\n",
    "\n",
    "from sklearn.model_selection import train_test_split, GridSearchCV, RandomizedSearchCV\n",
    "from sklearn.metrics import accuracy_score, roc_auc_score, classification_report, mean_squared_error, mean_absolute_error, mean_absolute_percentage_error\n",
    "from sklearn.model_selection import train_test_split\n",
    "from sklearn.preprocessing import LabelBinarizer, StandardScaler,MinMaxScaler\n",
    "from sklearn.tree import DecisionTreeClassifier, DecisionTreeRegressor\n",
    "\n",
    "\n",
    "import os\n",
    "import joblib\n",
    "\n",
    "import warnings\n",
    "warnings.filterwarnings('ignore')\n",
    "\n",
    "import matplotlib.pyplot as plt\n",
    "\n",
    "from matplotlib.pyplot import figure\n",
    "import matplotlib.image as mpimg\n",
    "import pylab as pl\n",
    "from pylab import savefig\n",
    "plt.style.use('seaborn-deep')\n",
    "\n",
    "import stability as st\n",
    "\n",
    "import statistics\n",
    "import scipy as scp\n",
    "import math\n",
    "\n",
    "import lime\n",
    "import lime.lime_tabular\n",
    "\n",
    "import shap\n",
    "\n",
    "from anchor import anchor_tabular\n",
    "\n",
    "import time\n",
    "import random"
   ]
  },
  {
   "cell_type": "code",
   "execution_count": null,
   "metadata": {},
   "outputs": [],
   "source": [
    "# path to project folder\n",
    "# please change to your own\n",
    "PATH = os.getcwd()\n",
    "\n",
    "dataset = \"income\"\n",
    "cls_method = \"xgboost\" \n",
    "\n",
    "classification = True\n",
    "\n",
    "if dataset == \"diabetes\":\n",
    "    class_var = \"Outcome\"\n",
    "elif dataset == \"breast_cancer\":\n",
    "    class_var = \"diagnosis\"\n",
    "\n",
    "random_state = 39\n",
    "num_eval = 500\n",
    "n_splits = 3\n",
    "random.seed(random_state)\n",
    "\n",
    "save_to = \"%s/%s/\" % (PATH, dataset)\n",
    "dataset_folder = \"%s/datasets/\" % (save_to)"
   ]
  },
  {
   "cell_type": "code",
   "execution_count": null,
   "metadata": {},
   "outputs": [],
   "source": [
    "#Get datasets\n",
    "X_train = pd.read_csv(dataset_folder+dataset+\"_Xtrain.csv\", index_col=False, sep = \";\")#.values\n",
    "X_test = pd.read_csv(dataset_folder+dataset+\"_Xtest.csv\", index_col=False, sep = \";\")#.values\n",
    "X_validation = pd.read_csv(dataset_folder+dataset+\"_Xvalidation.csv\", index_col=False, sep = \";\")#.values\n",
    "\n",
    "y_train = pd.read_csv(dataset_folder+dataset+\"_ytrain.csv\", index_col=False, sep = \";\").values.reshape(-1)\n",
    "y_test = pd.read_csv(dataset_folder+dataset+\"_ytest.csv\", index_col=False, sep = \";\").values.reshape(-1)\n",
    "y_validation = pd.read_csv(dataset_folder+dataset+\"_yvalidation.csv\", index_col=False, sep = \";\").values.reshape(-1)\n",
    "\n",
    "feat_list = X_train.columns\n",
    "results_template = pd.read_csv(os.path.join(dataset_folder, dataset+\"_results_template.csv\"), index_col=False)"
   ]
  },
  {
   "cell_type": "code",
   "execution_count": null,
   "metadata": {},
   "outputs": [],
   "source": [
    "results_template"
   ]
  },
  {
   "cell_type": "code",
   "execution_count": null,
   "metadata": {},
   "outputs": [],
   "source": [
    "if cls_method == \"xgboost\":\n",
    "    space = {'learning_rate': [random.uniform(0,5) for i in range(5)],\n",
    "            'subsample': [random.uniform(0.5,1) for i in range(5)],\n",
    "            'max_depth': np.arange(1, 33, 6),\n",
    "            'colsample_bytree': [random.uniform(0,1) for i in range(5)],\n",
    "            'min_child_weight': np.arange(0,6,1)}\n",
    "elif cls_method == \"decision_tree\":\n",
    "    space = {\"splitter\": [\"best\", \"random\"],\n",
    "            \"min_samples_split\": [random.uniform(0, 1) for i in range (50)],\n",
    "            \"max_features\": [random.uniform(0,1) for i in range (50)]}\n"
   ]
  },
  {
   "cell_type": "code",
   "execution_count": null,
   "metadata": {},
   "outputs": [],
   "source": [
    "#Create prediction model\n",
    "if classification == True:\n",
    "    if cls_method == \"xgboost\":\n",
    "        estimator = xgb.XGBClassifier(random_state = random_state)\n",
    "    elif cls_method == \"decision_tree\":\n",
    "        space[\"criterion\"] = [\"gini\", \"entropy\"]\n",
    "        estimator = DecisionTreeClassifier(random_state = random_state)\n",
    "        \n",
    "else:\n",
    "    if cls_method == \"xgboost\":\n",
    "        estimator = xgb.XGBRegressor(random_state = random_state)\n",
    "    elif cls_method == \"decision_tree\":\n",
    "        space[\"criterion\"] = [\"mse\", \"friedman_mse\", \"mae\", \"poisson\"]\n",
    "        estimator = DecisionTreeRegressor(random_state = random_state)\n",
    "        \n",
    "cls = GridSearchCV(estimator, param_grid=space, verbose = 3)\n",
    "cls.fit(X_train.values, y_train)\n",
    "cls = cls.best_estimator_\n",
    "joblib.dump(cls, save_to+cls_method+\"/cls.joblib\")"
   ]
  },
  {
   "cell_type": "code",
   "execution_count": null,
   "metadata": {},
   "outputs": [],
   "source": [
    "test_x = pd.concat([X_test, X_validation])\n",
    "test_y = np.hstack([y_test, y_validation])\n",
    "y_pred = cls.predict(test_x.values)\n",
    "\n",
    "if classification == True:\n",
    "    print(classification_report(test_y, y_pred))\n",
    "else:\n",
    "    print(\"RMSE:\", mean_squared_error(test_y, y_pred, squared = False))\n",
    "    print(\"MAE:\", mean_absolute_error(test_y, y_pred))\n",
    "    print(\"MAPE:\", mean_absolute_percentage_error(test_y, y_pred))"
   ]
  },
  {
   "cell_type": "code",
   "execution_count": null,
   "metadata": {},
   "outputs": [],
   "source": [
    "if classification:\n",
    "    full_test = pd.concat([test_x.reset_index(), results_template], axis = 1, join = 'inner').drop(['index'], axis = 1)\n",
    "    full_test[\"predicted\"] = y_pred\n",
    "    \n",
    "    grouped = full_test.groupby('predicted')\n",
    "    balanced = grouped.apply(lambda x: x.sample(grouped.size().min()).reset_index(drop=True))\n",
    "    \n",
    "    test_sample = balanced[X_test.columns]\n",
    "    test_sample.reset_index(drop = True, inplace = True)\n",
    "    \n",
    "    results_template = balanced[results_template.columns]\n",
    "    results_template.reset_index(drop = True, inplace = True)\n",
    "    \n",
    "    preds = cls.predict(test_sample.values)\n",
    "    probas = [cls.predict_proba(test_sample.values)[i][preds[i]] for i in range(len(preds))]\n",
    "\n",
    "    results_template[\"Prediction\"] = preds\n",
    "    results_template[\"Prediction Probability\"] = probas"
   ]
  },
  {
   "cell_type": "code",
   "execution_count": null,
   "metadata": {},
   "outputs": [],
   "source": [
    "if classification == False:\n",
    "    test_sample = test_x\n",
    "    results_template = results_template\n",
    "    \n",
    "    preds = cls.predict(test_sample.values)\n",
    "    results_template[\"Prediction\"] = preds"
   ]
  },
  {
   "cell_type": "code",
   "execution_count": null,
   "metadata": {},
   "outputs": [],
   "source": [
    "results_template.to_csv(os.path.join(save_to, cls_method, \"results.csv\"), sep = \";\", index = False)\n",
    "test_sample.to_csv(os.path.join(save_to, cls_method, \"test_sample.csv\"), index = False)"
   ]
  },
  {
   "cell_type": "code",
   "execution_count": null,
   "metadata": {},
   "outputs": [],
   "source": [
    "results_template"
   ]
  },
  {
   "cell_type": "code",
   "execution_count": null,
   "metadata": {},
   "outputs": [],
   "source": []
  }
 ],
 "metadata": {
  "kernelspec": {
   "display_name": "Python 3",
   "language": "python",
   "name": "python3"
  },
  "language_info": {
   "codemirror_mode": {
    "name": "ipython",
    "version": 3
   },
   "file_extension": ".py",
   "mimetype": "text/x-python",
   "name": "python",
   "nbconvert_exporter": "python",
   "pygments_lexer": "ipython3",
   "version": "3.8.3"
  }
 },
 "nbformat": 4,
 "nbformat_minor": 4
}
