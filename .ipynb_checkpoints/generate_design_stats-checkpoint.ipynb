{
 "cells": [
  {
   "cell_type": "code",
   "execution_count": 1,
   "metadata": {},
   "outputs": [],
   "source": [
    "import pandas as pd\n",
    "import numpy as np\n",
    "\n",
    "import os\n",
    "import sys\n",
    "from sys import argv\n",
    "import pickle\n",
    "import random\n",
    "import joblib\n",
    "\n",
    "import seaborn as sns\n",
    "import matplotlib.pyplot as plt\n",
    "%matplotlib inline\n",
    "\n",
    "import statistics\n",
    "import math\n",
    "\n",
    "import warnings\n",
    "warnings.filterwarnings('ignore')\n",
    "\n",
    "from sklearn.metrics import accuracy_score, mean_absolute_percentage_error, mean_absolute_error, f1_score\n",
    "import sklearn"
   ]
  },
  {
   "cell_type": "code",
   "execution_count": 2,
   "metadata": {},
   "outputs": [],
   "source": [
    "classification_datasets = [\"diabetes\", \"breast_cancer\", \"income\"]\n",
    "regression_datasets = [\"housing\", \"student_scores\", \"bike_sharing\"]\n",
    "datasets = []\n",
    "datasets.extend(classification_datasets)\n",
    "datasets.extend(regression_datasets)\n",
    "\n",
    "models = [\"decision_tree\", \"xgboost\"]\n",
    "\n",
    "data_names = {\"breast_cancer\":\"Breast Cancer\", \"diabetes\":\"Diabetes\", \"income\": \"Adult Income\",\n",
    "             \"housing\": \"House Prices\", \"student_scores\": \"Student Scores\", \"bike_sharing\": \"Bike Rentals\"}\n",
    "\n",
    "PATH = os.getcwd()"
   ]
  },
  {
   "cell_type": "markdown",
   "metadata": {},
   "source": [
    "# Check Model Accuracy"
   ]
  },
  {
   "cell_type": "code",
   "execution_count": 3,
   "metadata": {},
   "outputs": [
    {
     "data": {
      "image/png": "[encoded data removed]",
      "text/plain": [
       "<Figure size 432x288 with 1 Axes>"
      ]
     },
     "metadata": {
      "needs_background": "light"
     },
     "output_type": "display_data"
    }
   ],
   "source": [
    "dt_train_acc = []\n",
    "dt_test_acc = []\n",
    "xgb_train_acc = []\n",
    "xgb_test_acc = []\n",
    "\n",
    "for data in classification_datasets:\n",
    "    X_train = pd.read_csv(os.path.join(PATH, data, \"datasets\", data+\"_Xtrain.csv\"), sep = \";\").values\n",
    "    X_test = pd.read_csv(os.path.join(PATH, data, \"datasets\", data+\"_Xtest.csv\"), sep = \";\").values\n",
    "    X_validation = pd.read_csv(os.path.join(PATH, data, \"datasets\", data+\"_Xvalidation.csv\"), sep = \";\").values\n",
    "    test_x = np.vstack([X_test, X_validation])\n",
    "    \n",
    "    y_train = pd.read_csv(os.path.join(PATH, data, \"datasets\", data+\"_Ytrain.csv\"), sep = \";\").values\n",
    "    y_test = pd.read_csv(os.path.join(PATH, data, \"datasets\", data+\"_Ytest.csv\"), sep = \";\").values\n",
    "    y_validation = pd.read_csv(os.path.join(PATH, data, \"datasets\", data+\"_Yvalidation.csv\"), sep = \";\").values\n",
    "    test_y = np.vstack([y_test, y_validation])\n",
    "    \n",
    "    for classifier in models:\n",
    "        cls = joblib.load(os.path.join(PATH, data, classifier, \"cls.joblib\"))\n",
    "        train_acc = f1_score(y_train, cls.predict(X_train))\n",
    "        test_acc = f1_score(test_y, cls.predict(test_x))\n",
    "        if classifier == \"decision_tree\":\n",
    "            dt_train_acc.append(train_acc)\n",
    "            dt_test_acc.append(test_acc)\n",
    "        else:\n",
    "            xgb_train_acc.append(train_acc)\n",
    "            xgb_test_acc.append(test_acc)\n",
    "\n",
    "\n",
    "df_acc = pd.DataFrame(np.c_[dt_test_acc, xgb_test_acc], index=[data_names[data] for data in classification_datasets],\n",
    "                  columns = [\"Decision Tree\", \"XGBoost\"])\n",
    "df_acc.plot.bar(color={\"Decision Tree\": \"black\", \"XGBoost\": \"#778899\"})\n",
    "plt.xticks(rotation = 0)\n",
    "plt.title(\"Model Accuracy - Classification\")\n",
    "plt.xlabel(\"Dataset\")\n",
    "plt.ylabel(\"Accuracy\")\n",
    "#plt.savefig(final_folder+dataset+\"_\"+cls_method+\"_\"+bin_type+\".eps\")\n",
    "plt.show()"
   ]
  },
  {
   "cell_type": "code",
   "execution_count": 4,
   "metadata": {},
   "outputs": [
    {
     "data": {
      "text/html": [
       "<div>\n",
       "<style scoped>\n",
       "    .dataframe tbody tr th:only-of-type {\n",
       "        vertical-align: middle;\n",
       "    }\n",
       "\n",
       "    .dataframe tbody tr th {\n",
       "        vertical-align: top;\n",
       "    }\n",
       "\n",
       "    .dataframe thead th {\n",
       "        text-align: right;\n",
       "    }\n",
       "</style>\n",
       "<table border=\"1\" class=\"dataframe\">\n",
       "  <thead>\n",
       "    <tr style=\"text-align: right;\">\n",
       "      <th></th>\n",
       "      <th>Decision Tree</th>\n",
       "      <th>XGBoost</th>\n",
       "    </tr>\n",
       "  </thead>\n",
       "  <tbody>\n",
       "    <tr>\n",
       "      <th>Diabetes</th>\n",
       "      <td>0.690058</td>\n",
       "      <td>0.721519</td>\n",
       "    </tr>\n",
       "    <tr>\n",
       "      <th>Breast Cancer</th>\n",
       "      <td>0.883333</td>\n",
       "      <td>0.967213</td>\n",
       "    </tr>\n",
       "    <tr>\n",
       "      <th>Adult Income</th>\n",
       "      <td>0.822509</td>\n",
       "      <td>0.840449</td>\n",
       "    </tr>\n",
       "  </tbody>\n",
       "</table>\n",
       "</div>"
      ],
      "text/plain": [
       "               Decision Tree   XGBoost\n",
       "Diabetes            0.690058  0.721519\n",
       "Breast Cancer       0.883333  0.967213\n",
       "Adult Income        0.822509  0.840449"
      ]
     },
     "execution_count": 4,
     "metadata": {},
     "output_type": "execute_result"
    }
   ],
   "source": [
    "df_acc"
   ]
  },
  {
   "cell_type": "code",
   "execution_count": 5,
   "metadata": {},
   "outputs": [
    {
     "data": {
      "image/png": "[encoded data removed]",
      "text/plain": [
       "<Figure size 432x288 with 1 Axes>"
      ]
     },
     "metadata": {
      "needs_background": "light"
     },
     "output_type": "display_data"
    },
    {
     "data": {
      "image/png": "[encoded data removed]",
      "text/plain": [
       "<Figure size 432x288 with 1 Axes>"
      ]
     },
     "metadata": {
      "needs_background": "light"
     },
     "output_type": "display_data"
    }
   ],
   "source": [
    "dt_train_mae = []\n",
    "dt_test_mae = []\n",
    "dt_train_mape = []\n",
    "dt_test_mape = []\n",
    "\n",
    "xgb_train_mae = []\n",
    "xgb_test_mae = []\n",
    "xgb_train_mape = []\n",
    "xgb_test_mape = []\n",
    "\n",
    "for data in regression_datasets:\n",
    "    X_train = pd.read_csv(os.path.join(PATH, data, \"datasets\", data+\"_Xtrain.csv\"), sep = \";\").values\n",
    "    X_test = pd.read_csv(os.path.join(PATH, data, \"datasets\", data+\"_Xtest.csv\"), sep = \";\").values\n",
    "    X_validation = pd.read_csv(os.path.join(PATH, data, \"datasets\", data+\"_Xvalidation.csv\"), sep = \";\").values\n",
    "    test_x = np.vstack([X_test, X_validation])\n",
    "    \n",
    "    y_train = pd.read_csv(os.path.join(PATH, data, \"datasets\", data+\"_Ytrain.csv\"), sep = \";\").values\n",
    "    y_test = pd.read_csv(os.path.join(PATH, data, \"datasets\", data+\"_Ytest.csv\"), sep = \";\").values\n",
    "    y_validation = pd.read_csv(os.path.join(PATH, data, \"datasets\", data+\"_Yvalidation.csv\"), sep = \";\").values\n",
    "    test_y = np.vstack([y_test, y_validation])\n",
    "    \n",
    "    for model in models:\n",
    "        cls = joblib.load(os.path.join(PATH, data, model, \"cls.joblib\"))\n",
    "        train_mae = mean_absolute_error(y_train, cls.predict(X_train))\n",
    "        test_mae = mean_absolute_error(test_y, cls.predict(test_x))\n",
    "        train_mape = mean_absolute_percentage_error(y_train, cls.predict(X_train))\n",
    "        test_mape = mean_absolute_percentage_error(test_y, cls.predict(test_x))\n",
    "        if model == \"decision_tree\":\n",
    "            dt_train_mae.append(train_mae)\n",
    "            dt_test_mae.append(test_mae)\n",
    "            dt_train_mape.append(train_mape)\n",
    "            dt_test_mape.append(test_mape)\n",
    "        else:\n",
    "            xgb_train_mae.append(train_mae)\n",
    "            xgb_test_mae.append(test_mae)\n",
    "            xgb_train_mape.append(train_mape)\n",
    "            xgb_test_mape.append(test_mape)\n",
    "            \n",
    "df_mae = pd.DataFrame(np.c_[dt_test_mae, xgb_test_mae], index=[data_names[data] for data in regression_datasets], \n",
    "                  columns = [\"Decision Tree\", \"XGBoost\"])\n",
    "df_mae.plot.bar(color={\"Decision Tree\": \"black\", \"XGBoost\": \"#778899\"})\n",
    "plt.xticks(rotation = 0)\n",
    "plt.title(\"Model Accuracy - Regression\")\n",
    "plt.xlabel(\"Dataset\")\n",
    "plt.ylabel(\"Mean Absolute Error\")\n",
    "plt.show()\n",
    "\n",
    "df_mape = pd.DataFrame(np.c_[dt_test_mape, xgb_test_mape], index=[data_names[data] for data in regression_datasets],\n",
    "                  columns = [\"Decision Tree\", \"XGBoost\"])\n",
    "df_mape.plot.bar(color={\"Decision Tree\": \"black\", \"XGBoost\": \"#778899\"})\n",
    "plt.xticks(rotation = 0)\n",
    "plt.title(\"Model Accuracy - XGBoost Regressor\")\n",
    "plt.xlabel(\"Dataset\")\n",
    "plt.ylabel(\"Mean Absolute Percentage Error\")\n",
    "plt.show()"
   ]
  },
  {
   "cell_type": "markdown",
   "metadata": {},
   "source": [
    "# Generate Model Architecture Stats"
   ]
  },
  {
   "cell_type": "code",
   "execution_count": 6,
   "metadata": {},
   "outputs": [],
   "source": [
    "def get_tree_characteristics(tree, feat_list, cur_depth = 0, lvl = 0, depths = [], split_nodes = [], leaf_nodes = []):\n",
    "\n",
    "    left_child = tree.children_left[lvl]\n",
    "    right_child = tree.children_right[lvl]\n",
    "    \n",
    "    if left_child == sklearn.tree._tree.TREE_LEAF:\n",
    "        depths.append(cur_depth)\n",
    "        leaf_nodes.append(lvl)\n",
    "        \n",
    "    else:\n",
    "        split_nodes.append(lvl)\n",
    "        depths, split_nodes, leaf_nodes = get_tree_characteristics(tree, feat_list, cur_depth+1, left_child, depths, split_nodes, leaf_nodes)\n",
    "        depths, split_noes, leaf_nodes = get_tree_characteristics(tree, feat_list, cur_depth+1, right_child, depths, split_nodes, leaf_nodes)\n",
    "        \n",
    "    return depths, split_nodes, leaf_nodes"
   ]
  },
  {
   "cell_type": "code",
   "execution_count": 7,
   "metadata": {},
   "outputs": [
    {
     "name": "stdout",
     "output_type": "stream",
     "text": [
      "Decision Tree Characteristics\n",
      "Diabetes \t 5 \t 8 \t 9\n",
      "Breast Cancer \t 5 \t 6 \t 7\n",
      "Adult Income \t 17 \t 54 \t 55\n",
      "House Prices \t 19 \t 343 \t 344\n",
      "Student Scores \t 19 \t 24 \t 25\n",
      "Bike Rentals \t 28 \t 3515 \t 3516\n"
     ]
    }
   ],
   "source": [
    "print(\"Decision Tree Characteristics\")\n",
    "\n",
    "for data in datasets:\n",
    "    split_nodes = []\n",
    "    leaf_nodes = []\n",
    "    \n",
    "    cls = joblib.load(os.path.join(PATH, data, \"decision_tree\", \"cls.joblib\"))\n",
    "    X_train = pd.read_csv(os.path.join(PATH, data, \"datasets\", data+\"_Xtrain.csv\"), sep = \";\")\n",
    "    depths, split_nodes, leaf_nodes = get_tree_characteristics(cls.tree_, X_train.columns, split_nodes = split_nodes, leaf_nodes = leaf_nodes)\n",
    "    \n",
    "    max_depth = max(depths)\n",
    "    splits = len(split_nodes)\n",
    "    leaves = len(leaf_nodes)\n",
    "    \n",
    "    print(data_names[data], \"\\t\", max_depth, \"\\t\", splits, \"\\t\", leaves)"
   ]
  },
  {
   "cell_type": "code",
   "execution_count": 8,
   "metadata": {},
   "outputs": [
    {
     "name": "stdout",
     "output_type": "stream",
     "text": [
      "XGBoost Characteristics\n",
      "Diabetes \t 100 \t 4767 \t 4867\n",
      "Breast Cancer \t 100 \t 1178 \t 1278\n",
      "Adult Income \t 100 \t 100 \t 200\n",
      "House Prices \t 100 \t 100 \t 200\n",
      "Student Scores \t 100 \t 100 \t 200\n",
      "Bike Rentals \t 100 \t 10540 \t 10640\n"
     ]
    }
   ],
   "source": [
    "print(\"XGBoost Characteristics\")\n",
    "\n",
    "for data in datasets:\n",
    "    split_nodes = []\n",
    "    leaf_nodes = []\n",
    "    \n",
    "    cls = joblib.load(os.path.join(PATH, data, \"xgboost\", \"cls.joblib\"))\n",
    "    X_train = pd.read_csv(os.path.join(PATH, data, \"datasets\", data+\"_Xtrain.csv\"), sep = \";\")\n",
    "    dump_list = cls.get_booster().get_dump()\n",
    "    num_trees = len(dump_list)\n",
    "    \n",
    "    full_tree = cls._Booster.trees_to_dataframe()\n",
    "    leaves = full_tree[full_tree['Feature']=='Leaf']\n",
    "    splits = full_tree[full_tree['Feature']!='Leaf']\n",
    "    \n",
    "    num_leaves = len(leaves)\n",
    "    num_splits = len(splits)\n",
    "    \n",
    "    print(data_names[data], \"\\t\", num_trees, \"\\t\", num_splits, \"\\t\", num_leaves)"
   ]
  },
  {
   "cell_type": "markdown",
   "metadata": {},
   "source": [
    "# Generate Dataset Stats"
   ]
  },
  {
   "cell_type": "code",
   "execution_count": 9,
   "metadata": {},
   "outputs": [
    {
     "name": "stdout",
     "output_type": "stream",
     "text": [
      "Dataset \t num_feat \t train_len \t test_len\n",
      "Diabetes \t 8 \t\t 375 \t\t 161\n",
      "Breast Cancer \t 30 \t\t 296 \t\t 128\n",
      "Adult Income \t 104 \t\t 10977 \t\t 4705\n",
      "House Prices \t 13 \t\t 354 \t\t 152\n",
      "Student Scores \t 58 \t\t 454 \t\t 195\n",
      "Bike Rentals \t 12 \t\t 12165 \t\t 5214\n"
     ]
    }
   ],
   "source": [
    "print(\"Dataset \\t num_feat \\t train_len \\t test_len\")\n",
    "for data in datasets:\n",
    "    X_train = pd.read_csv(os.path.join(PATH, data, \"datasets\", data+\"_Xtrain.csv\"), sep = \";\")\n",
    "    X_test = pd.read_csv(os.path.join(PATH, data, \"datasets\", data+\"_Xtest.csv\"), sep = \";\").values\n",
    "    X_validation = pd.read_csv(os.path.join(PATH, data, \"datasets\", data+\"_Xvalidation.csv\"), sep = \";\").values\n",
    "    test_x = np.vstack([X_test, X_validation])\n",
    "    \n",
    "    print(data_names[data], \"\\t\", len(X_train.columns), \"\\t\\t\", len(X_train), \"\\t\\t\", len(test_x))"
   ]
  },
  {
   "cell_type": "markdown",
   "metadata": {},
   "source": [
    "# Model Visualisation (DT only)"
   ]
  },
  {
   "cell_type": "code",
   "execution_count": 10,
   "metadata": {},
   "outputs": [],
   "source": [
    "from sklearn import tree\n",
    "import pydotplus\n",
    "\n",
    "dataset = \"diabetes\"\n",
    "\n",
    "cls = joblib.load(os.path.join(PATH, dataset, \"decision_tree\", \"cls.joblib\"))\n",
    "X_train = pd.read_csv(os.path.join(PATH, dataset, \"datasets\", dataset+\"_Xtrain.csv\"), sep = \";\")\n",
    "\n",
    "class_names = [\"Negative\", \"Positive\"]\n",
    "\n",
    "dot_data = tree.export_graphviz(cls, out_file=None, feature_names=X_train.columns, class_names=class_names,\n",
    "                                filled=True, rounded=True, special_characters=True)\n",
    "graph = pydotplus.graph_from_dot_data(dot_data)\n",
    "\n",
    "for node in graph.get_node_list():\n",
    "    if node.get_attributes().get('label') is None:\n",
    "        continue\n",
    "    if 'samples = ' in node.get_attributes()['label']:\n",
    "        labels = node.get_attributes()['label'].split('<br/>')\n",
    "        for i, label in enumerate(labels):\n",
    "            if label.startswith('samples = '):\n",
    "                labels[i] = 'samples = 0'\n",
    "        node.set('label', '<br/>'.join(labels))\n",
    "        node.set_fillcolor('white')\n",
    "\n",
    "samples = X_train.values[:1]\n",
    "decision_paths = cls.decision_path(samples)\n",
    "\n",
    "for decision_path in decision_paths:\n",
    "    for n, node_value in enumerate(decision_path.toarray()[0]):\n",
    "        if node_value == 0:\n",
    "            continue\n",
    "        node = graph.get_node(str(n))[0]            \n",
    "        node.set_fillcolor('green')\n",
    "        labels = node.get_attributes()['label'].split('<br/>')\n",
    "        for i, label in enumerate(labels):\n",
    "            if label.startswith('samples = '):\n",
    "                labels[i] = 'samples = {}'.format(int(label.split('=')[1]) + 1)\n",
    "\n",
    "        node.set('label', '<br/>'.join(labels))"
   ]
  }
 ],
 "metadata": {
  "kernelspec": {
   "display_name": "Python 3",
   "language": "python",
   "name": "python3"
  },
  "language_info": {
   "codemirror_mode": {
    "name": "ipython",
    "version": 3
   },
   "file_extension": ".py",
   "mimetype": "text/x-python",
   "name": "python",
   "nbconvert_exporter": "python",
   "pygments_lexer": "ipython3",
   "version": "3.8.3"
  }
 },
 "nbformat": 4,
 "nbformat_minor": 4
}
