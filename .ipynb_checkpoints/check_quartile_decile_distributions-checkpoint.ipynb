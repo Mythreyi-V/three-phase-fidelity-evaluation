{
 "cells": [
  {
   "cell_type": "code",
   "execution_count": 1,
   "metadata": {},
   "outputs": [],
   "source": [
    "#!pip install lime\n",
    "#!pip install shap\n",
    "#!pip install anchor-exp\n",
    "#!pip install hyperopt\n",
    "\n",
    "import pandas as pd\n",
    "import numpy as np\n",
    "\n",
    "import xgboost as xgb\n",
    "from xgboost import XGBClassifier\n",
    "\n",
    "import pickle\n",
    "\n",
    "import sklearn\n",
    "from sklearn.metrics import f1_score\n",
    "\n",
    "\n",
    "import os\n",
    "import joblib\n",
    "\n",
    "import warnings\n",
    "warnings.filterwarnings('ignore')\n",
    "\n",
    "import matplotlib.pyplot as plt\n",
    "plt.style.use('seaborn-deep')\n",
    "\n",
    "import statistics\n",
    "import scipy as scp\n",
    "import math\n",
    "\n",
    "import lime\n",
    "import lime.lime_tabular\n",
    "\n",
    "import shap\n",
    "\n",
    "from anchor import anchor_tabular\n",
    "\n",
    "import seaborn as sns\n",
    "\n",
    "import random\n",
    "\n",
    "import distutils"
   ]
  },
  {
   "cell_type": "code",
   "execution_count": 2,
   "metadata": {},
   "outputs": [],
   "source": [
    "PATH = os.getcwd()\n",
    "\n",
    "dataset = \"diabetes\"\n",
    "cls_method = \"xgboost\"\n",
    "classification = True\n",
    "#quartiles = 1\n",
    "#percentage = 0.1\n",
    "\n",
    "num_bins = 4\n",
    "bin_type = \"Quartiles\" if num_bins == 4 else \"Deciles\"\n",
    "\n",
    "random_state = 39\n",
    "exp_iter = 10\n",
    "random.seed(random_state)\n",
    "\n",
    "save_to = \"%s/%s/\" % (PATH, dataset)\n",
    "dataset_folder = \"%s/datasets/\" % (save_to)\n",
    "final_folder = \"%s/%s/\" % (save_to, cls_method)\n",
    "\n",
    "#Get datasets\n",
    "X_train = pd.read_csv(dataset_folder+dataset+\"_Xtrain.csv\", index_col=False, sep = \";\")\n",
    "test_x = pd.read_csv(final_folder+\"test_sample.csv\", index_col=False, sep = \";\").values\n",
    "\n",
    "cls = joblib.load(save_to+cls_method+\"/cls.joblib\")\n",
    "X = np.vstack((X_train.values, test_x))\n",
    "\n",
    "feat_list = [each.replace(' ','_') for each in X_train.columns]"
   ]
  },
  {
   "cell_type": "code",
   "execution_count": 3,
   "metadata": {},
   "outputs": [],
   "source": [
    "if cls_method == \"xgboost\":\n",
    "    shap_explainer = shap.Explainer(cls)\n",
    "else:\n",
    "    shap_explainer = shap.Explainer(cls, X, check_additivity = False)\n",
    "\n",
    "all_bin_sizes = [[] for i in range(num_bins)]\n",
    "    \n",
    "for instance in test_x:\n",
    "    instance = instance.reshape(1, -1) if cls_method == \"xgboost\" else instance\n",
    "    full_exp = [shap_explainer(instance, check_additivity = False).values for i in range(exp_iter)]\n",
    "\n",
    "    if classification==True and cls_method == \"decision_tree\":\n",
    "        shap_exp = []\n",
    "        for each in full_exp:\n",
    "            single_exp = [feat[0] for feat in each]\n",
    "            shap_exp.append(single_exp)\n",
    "    else:\n",
    "        shap_exp = [exp.reshape(len(feat_list)) for exp in full_exp]\n",
    "\n",
    "    avg_shap_exp = np.average(shap_exp, axis = 0)\n",
    "\n",
    "    abs_exp = [abs(exp) for exp in avg_shap_exp]\n",
    "\n",
    "    bins = pd.cut(abs_exp, num_bins, retbins = True, duplicates = \"drop\")\n",
    "    \n",
    "    bin_feats = []\n",
    "    \n",
    "    for i in range(len(bins[1])-1):\n",
    "        items = [val for val in abs_exp if val > bins[1][i]]\n",
    "        bin_feats.append(len(items))\n",
    "        \n",
    "    bin_feats.reverse()\n",
    "    #print(bin_feats)\n",
    "    \n",
    "    cumulative = bin_feats[0]\n",
    "    all_bin_sizes[0].append(bin_feats[0]/len(feat_list))\n",
    "    for i in range(1,len(bin_feats)):\n",
    "        bin_items = bin_feats[i] - cumulative\n",
    "        cumulative += bin_items\n",
    "        all_bin_sizes[i].append(bin_items/len(feat_list))\n",
    "        \n",
    "avg_shap_bin_sizes = np.average(all_bin_sizes, axis = 1)\n",
    "cumulative_shap_bin_sizes = [avg_shap_bin_sizes[0]]\n",
    "cumulative_shap_bin_sizes.extend(avg_shap_bin_sizes[i]+cumulative_shap_bin_sizes[i-1] for i in range(1, num_bins))"
   ]
  },
  {
   "cell_type": "code",
   "execution_count": 4,
   "metadata": {},
   "outputs": [],
   "source": [
    "if classification==True:\n",
    "    class_names=['Negative','Positive']# negative is 0, positive is 1, 0 is left, 1 is right\n",
    "    lime_explainer = lime.lime_tabular.LimeTabularExplainer(X_train.values, feature_names = feat_list, \n",
    "                                                            class_names=class_names, discretize_continuous=True)\n",
    "else:\n",
    "    class_names = ['Final Value']\n",
    "    lime_explainer = lime.lime_tabular.LimeTabularExplainer(X_train.values, feature_names = feat_list, \n",
    "                                                            class_names=class_names, discretize_continuous=True, mode = \"regression\")\n",
    "all_bin_sizes = [[] for i in range(num_bins)]\n",
    "    \n",
    "for instance in test_x:\n",
    "    lime_exp = []\n",
    "    for i in range(exp_iter):\n",
    "        if classification==True:\n",
    "            lime_exp.extend(lime_explainer.explain_instance(instance, cls.predict_proba, \n",
    "                                                num_features=len(feat_list), labels=[0,1]).as_list())\n",
    "        else:\n",
    "            lime_exp.extend(lime_explainer.explain_instance(instance, cls.predict, \n",
    "                                                    num_features=len(feat_list), labels=[0,1]).as_list())\n",
    "            \n",
    "    weights = [[] for each in feat_list]\n",
    "    for exp in lime_exp:\n",
    "        feat = exp[0].replace(\"= \",'')\n",
    "        if '<' in feat:\n",
    "            parts = feat.split('<')\n",
    "        elif '>' in feat:\n",
    "            parts = feat.split('>')\n",
    "        \n",
    "        for part in parts:\n",
    "            if part.replace('.','').replace(' ','').isdigit()==False:\n",
    "                feat_name = part.replace(' ','')\n",
    "        n = feat_list.index(feat_name)\n",
    "        weights[n].append(exp[1])\n",
    "    \n",
    "    weights = np.transpose(weights)\n",
    "    avg_weight = np.average(np.array(weights), axis = 0)\n",
    "    abs_weight = [abs(weight) for weight in avg_weight] \n",
    "        \n",
    "    #For average explanation    \n",
    "    bins = pd.cut(abs_weight, num_bins, retbins = True, duplicates = \"drop\")\n",
    "    \n",
    "    bin_feats = []\n",
    "    for i in range(len(bins[1])-1):\n",
    "        items = [val for val in abs_weight if val > bins[1][i]]\n",
    "        bin_feats.append(len(items))\n",
    "        \n",
    "    bin_feats.reverse()\n",
    "    \n",
    "    cumulative = bin_feats[0]\n",
    "    all_bin_sizes[0].append(bin_feats[0]/len(feat_list))\n",
    "    for i in range(1,len(bin_feats)):\n",
    "        bin_items = bin_feats[i] - cumulative\n",
    "        cumulative += bin_items\n",
    "        all_bin_sizes[i].append(bin_items/len(feat_list))\n",
    "        \n",
    "avg_lime_bin_sizes = np.average(all_bin_sizes, axis = 1)\n",
    "cumulative_lime_bin_sizes = [avg_lime_bin_sizes[0]]\n",
    "cumulative_lime_bin_sizes.extend(avg_lime_bin_sizes[i]+cumulative_lime_bin_sizes[i-1] for i in range(1, num_bins))"
   ]
  },
  {
   "cell_type": "code",
   "execution_count": 5,
   "metadata": {},
   "outputs": [
    {
     "name": "stderr",
     "output_type": "stream",
     "text": [
      "The PostScript backend does not support transparency; partially transparent artists will be rendered opaque.\n",
      "The PostScript backend does not support transparency; partially transparent artists will be rendered opaque.\n"
     ]
    },
    {
     "data": {
      "image/png": "[encoded data removed]",
      "text/plain": [
       "<Figure size 432x288 with 1 Axes>"
      ]
     },
     "metadata": {
      "needs_background": "light"
     },
     "output_type": "display_data"
    },
    {
     "name": "stderr",
     "output_type": "stream",
     "text": [
      "The PostScript backend does not support transparency; partially transparent artists will be rendered opaque.\n",
      "The PostScript backend does not support transparency; partially transparent artists will be rendered opaque.\n"
     ]
    },
    {
     "data": {
      "image/png": "[encoded data removed]",
      "text/plain": [
       "<Figure size 432x288 with 1 Axes>"
      ]
     },
     "metadata": {
      "needs_background": "light"
     },
     "output_type": "display_data"
    }
   ],
   "source": [
    "bins = list(range(1, num_bins+1))\n",
    "\n",
    "df = pd.DataFrame(np.c_[avg_shap_bin_sizes, avg_lime_bin_sizes], index=bins, columns = [\"SHAP\", \"LIME\"])\n",
    "df.plot.bar(color={\"SHAP\": \"black\", \"LIME\": \"#778899\"})\n",
    "plt.xticks(bins)\n",
    "plt.title(\"Features per bin - \"+dataset+\" using \"+cls_method)\n",
    "plt.xlabel(\"Bin (\"+bin_type+\")\")\n",
    "plt.ylabel(\"Proportion of Feature Space\")\n",
    "plt.ylim(0,1.1)\n",
    "plt.savefig(final_folder+dataset+\"_\"+cls_method+\"_\"+bin_type+\".eps\")\n",
    "plt.show()\n",
    "\n",
    "df = pd.DataFrame(np.c_[cumulative_shap_bin_sizes, cumulative_lime_bin_sizes], index=bins, columns = [\"SHAP\", \"LIME\"])\n",
    "df.plot.bar(color={\"SHAP\": \"black\", \"LIME\": \"#778899\"})\n",
    "plt.xticks(bins)\n",
    "plt.title(\"Features per bin - \"+dataset+\" using \"+cls_method+\" (cumulative)\")\n",
    "plt.xlabel(\"Bin (\"+bin_type+\")\")\n",
    "plt.ylabel(\"Proportion of Feature Space (cumulative)\")\n",
    "plt.ylim(0,1.1)\n",
    "plt.savefig(final_folder+dataset+\"_\"+cls_method+\"_\"+bin_type+\"_cumulative.eps\")\n",
    "plt.show()"
   ]
  }
 ],
 "metadata": {
  "kernelspec": {
   "display_name": "Python 3",
   "language": "python",
   "name": "python3"
  },
  "language_info": {
   "codemirror_mode": {
    "name": "ipython",
    "version": 3
   },
   "file_extension": ".py",
   "mimetype": "text/x-python",
   "name": "python",
   "nbconvert_exporter": "python",
   "pygments_lexer": "ipython3",
   "version": "3.8.3"
  }
 },
 "nbformat": 4,
 "nbformat_minor": 4
}
